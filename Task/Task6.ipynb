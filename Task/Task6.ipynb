{
 "cells": [
  {
   "cell_type": "markdown",
   "metadata": {},
   "source": [
    "# Task 6 - Naive Bayes\n",
    "## Target column - InternetService"
   ]
  },
  {
   "cell_type": "markdown",
   "metadata": {},
   "source": [
    "    All imports"
   ]
  },
  {
   "cell_type": "code",
   "execution_count": 1,
   "metadata": {},
   "outputs": [],
   "source": [
    "import pandas as pd\n",
    "import numpy as np\n",
    "\n",
    "from collections import OrderedDict\n",
    "from functools import reduce\n",
    "from operator import mul\n",
    "\n",
    "from sklearn.model_selection import train_test_split\n",
    "\n",
    "#Naive Bayes models\n",
    "from sklearn.naive_bayes import GaussianNB\n",
    "from sklearn.naive_bayes import MultinomialNB\n",
    "from sklearn.naive_bayes import BernoulliNB"
   ]
  },
  {
   "cell_type": "markdown",
   "metadata": {},
   "source": [
    "    Load the selected Data Set.\n",
    "    "
   ]
  },
  {
   "cell_type": "code",
   "execution_count": 2,
   "metadata": {},
   "outputs": [],
   "source": [
    "dataset = pd.read_csv('WA_Fn-UseC_-Telco-Customer-Churn.csv')\n",
    "\n",
    "#Edit dataset for iterable\n",
    "dataset = dataset.drop(columns=['customerID'])\n",
    "dataset['gender'] = dataset['gender'].map({'Female': 0, 'Male': 1})\n",
    "dataset['Partner'] = dataset['Partner'].map({'Yes': 1, 'No': 0})\n",
    "dataset['Dependents'] = dataset['Dependents'].map({'Yes': 0, 'No': 1})\n",
    "dataset['PhoneService'] = dataset['PhoneService'].map({'Yes': 0, 'No': 1})\n",
    "dataset['MultipleLines'] = dataset['MultipleLines'].map({'Yes': 1, 'No': 0, 'No phone service': 2})\n",
    "dataset['InternetService'] = dataset['InternetService'].map({'DSL': 1, 'No': 0, 'Fiber optic': 2})\n",
    "dataset['OnlineSecurity'] = dataset['OnlineSecurity'].map({'Yes': 1, 'No': 0, 'No internet service': 2})\n",
    "dataset['OnlineBackup'] = dataset['OnlineBackup'].map({'Yes': 1, 'No': 0, 'No internet service': 2})\n",
    "dataset['DeviceProtection'] = dataset['DeviceProtection'].map({'Yes': 1, 'No': 0, 'No internet service': 2})\n",
    "dataset['TechSupport'] = dataset['TechSupport'].map({'Yes': 1, 'No': 0, 'No internet service': 2})\n",
    "dataset['StreamingTV'] = dataset['StreamingTV'].map({'Yes': 1, 'No': 0, 'No internet service': 2})\n",
    "dataset['StreamingMovies'] = dataset['StreamingMovies'].map({'Yes': 1, 'No': 0, 'No internet service': 2})\n",
    "dataset['Contract'] = dataset['Contract'].map({'Two year': 1, 'Month-to-month': 0, 'One year': 2})\n",
    "dataset['PaperlessBilling'] = dataset['PaperlessBilling'].map({'Yes': 1, 'No': 0})\n",
    "dataset['PaymentMethod'] = dataset['PaymentMethod'].map({'Electronic check': 1, 'Mailed check': 0, 'Bank transfer (automatic)': 2, 'Credit card (automatic)': 3})\n",
    "dataset['Churn'] = dataset['Churn'].map({'Yes': 1, 'No': 0})\n",
    "dataset['TotalCharges'] = dataset['TotalCharges'].apply(func=lambda x: 0 if x == ' ' else float(x))\n",
    "#print(dataset['TotalCharges'].value_counts())\n",
    "#dataset\n",
    "corr = dataset.corr()\n",
    "\n",
    "# 'Correlation analis for found target column'\n",
    "#series = pd.Series()\n",
    "#for i, c in enumerate(corr):\n",
    "#    series = series.add(pd.Series({f'{corr[c].abs().nlargest(2).index[1]}{i}': corr[c].abs().nlargest(2).iloc[1]}), fill_value=0)\n",
    "#    print(corr[c].abs().nlargest(2))\n",
    "#corr['Churn'].abs().nlargest(2)[1:]\n",
    "#series = series.apply(func=lambda x: float(x))\n",
    "#series.nlargest(3) #Target column is InternetService\n",
    "\n",
    "#dataset"
   ]
  },
  {
   "cell_type": "markdown",
   "metadata": {},
   "source": [
    "    Split the data set into the train and test set."
   ]
  },
  {
   "cell_type": "code",
   "execution_count": 3,
   "metadata": {},
   "outputs": [],
   "source": [
    "X = dataset.drop(columns=['InternetService'])\n",
    "y = dataset['InternetService']\n",
    "\n",
    "X_train, X_test, y_train, y_test = train_test_split(X, y, test_size=0.3, random_state=42)"
   ]
  },
  {
   "cell_type": "markdown",
   "metadata": {},
   "source": [
    "    - Create an instance of Gaussian Naive Bayes\n",
    "    - Create an instance of Multinomial Naive Bayes\n",
    "    - Create an instance of Bernoulli Naive Bayes"
   ]
  },
  {
   "cell_type": "code",
   "execution_count": 4,
   "metadata": {},
   "outputs": [],
   "source": [
    "clf1 = GaussianNB()\n",
    "clf2 = MultinomialNB()\n",
    "clf3 = BernoulliNB()"
   ]
  },
  {
   "cell_type": "markdown",
   "metadata": {},
   "source": [
    "    Train every version of Naive Bayes on the train data set and make predictions on the corresponding test subsets."
   ]
  },
  {
   "cell_type": "code",
   "execution_count": 5,
   "metadata": {},
   "outputs": [
    {
     "name": "stdout",
     "output_type": "stream",
     "text": [
      "[1 0 0 ... 1 2 1]\n",
      "[0 0 0 ... 1 2 1]\n",
      "[1 0 0 ... 1 2 1]\n"
     ]
    }
   ],
   "source": [
    "clf1.fit(X_train, y_train)\n",
    "clf2.fit(X_train, y_train)\n",
    "clf3.fit(X_train, y_train)\n",
    "\n",
    "clf1_predict = clf1.predict(X_test)\n",
    "clf2_predict = clf2.predict(X_test)\n",
    "clf3_predict = clf3.predict(X_test)\n",
    "\n",
    "print(clf1_predict)\n",
    "print(clf2_predict)\n",
    "print(clf3_predict)"
   ]
  },
  {
   "cell_type": "markdown",
   "metadata": {},
   "source": [
    "    Get the accuracy of model.\n"
   ]
  },
  {
   "cell_type": "code",
   "execution_count": 6,
   "metadata": {},
   "outputs": [
    {
     "data": {
      "text/html": [
       "<div>\n",
       "<style scoped>\n",
       "    .dataframe tbody tr th:only-of-type {\n",
       "        vertical-align: middle;\n",
       "    }\n",
       "\n",
       "    .dataframe tbody tr th {\n",
       "        vertical-align: top;\n",
       "    }\n",
       "\n",
       "    .dataframe thead th {\n",
       "        text-align: right;\n",
       "    }\n",
       "</style>\n",
       "<table border=\"1\" class=\"dataframe\">\n",
       "  <thead>\n",
       "    <tr style=\"text-align: right;\">\n",
       "      <th></th>\n",
       "      <th>ML Model</th>\n",
       "      <th>Accuracy</th>\n",
       "    </tr>\n",
       "  </thead>\n",
       "  <tbody>\n",
       "    <tr>\n",
       "      <th>0</th>\n",
       "      <td>GaussianNB</td>\n",
       "      <td>0.911500</td>\n",
       "    </tr>\n",
       "    <tr>\n",
       "      <th>1</th>\n",
       "      <td>MultinomialNB</td>\n",
       "      <td>0.810696</td>\n",
       "    </tr>\n",
       "    <tr>\n",
       "      <th>2</th>\n",
       "      <td>BernoulliNB</td>\n",
       "      <td>0.813535</td>\n",
       "    </tr>\n",
       "  </tbody>\n",
       "</table>\n",
       "</div>"
      ],
      "text/plain": [
       "        ML Model  Accuracy\n",
       "0     GaussianNB  0.911500\n",
       "1  MultinomialNB  0.810696\n",
       "2    BernoulliNB  0.813535"
      ]
     },
     "execution_count": 6,
     "metadata": {},
     "output_type": "execute_result"
    }
   ],
   "source": [
    "clf1_accuracy = clf1.score(X_test, y_test)\n",
    "clf2_accuracy = clf2.score(X_test, y_test)\n",
    "clf3_accuracy = clf3.score(X_test, y_test)\n",
    "\n",
    "accuracy = pd.DataFrame([\n",
    "                         ['GaussianNB', clf1_accuracy],\n",
    "                         ['MultinomialNB', clf2_accuracy],\n",
    "                         ['BernoulliNB', clf3_accuracy]\n",
    "                         ], \n",
    "                        columns=['ML Model', 'Accuracy'])\n",
    "\n",
    "accuracy"
   ]
  },
  {
   "cell_type": "markdown",
   "metadata": {},
   "source": [
    "    Make a conclusion based on the data frame that you got.\n"
   ]
  },
  {
   "cell_type": "markdown",
   "metadata": {},
   "source": [
    "## Concluzia mea in baza DataFrame-ului care l-am primit cu acuratetia fiecarei din ML consta in ceea ca ceea mai buna predictie din toate a dat Gaussian Naive Bayes si, cu mult, 10% mai bine de cat celelalte. Dar care e diferenta nu cam stiu"
   ]
  }
 ],
 "metadata": {
  "kernelspec": {
   "display_name": "Python 3",
   "language": "python",
   "name": "python3"
  },
  "language_info": {
   "codemirror_mode": {
    "name": "ipython",
    "version": 3
   },
   "file_extension": ".py",
   "mimetype": "text/x-python",
   "name": "python",
   "nbconvert_exporter": "python",
   "pygments_lexer": "ipython3",
   "version": "3.11.4"
  }
 },
 "nbformat": 4,
 "nbformat_minor": 2
}
